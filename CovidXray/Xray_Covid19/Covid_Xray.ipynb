{
 "cells": [
  {
   "cell_type": "markdown",
   "id": "988d24b5",
   "metadata": {},
   "source": [
    "Importing Liabraries"
   ]
  },
  {
   "cell_type": "code",
   "execution_count": 1,
   "id": "b348a4b0",
   "metadata": {},
   "outputs": [],
   "source": [
    "import tensorflow as tf\n",
    "from keras.preprocessing.image import ImageDataGenerator\n",
    "from keras.callbacks import EarlyStopping"
   ]
  },
  {
   "cell_type": "markdown",
   "id": "adc4360d",
   "metadata": {},
   "source": [
    "Preprocessing the Training set"
   ]
  },
  {
   "cell_type": "code",
   "execution_count": 2,
   "id": "81fe9912",
   "metadata": {},
   "outputs": [
    {
     "name": "stdout",
     "output_type": "stream",
     "text": [
      "Found 74 images belonging to 1 classes.\n"
     ]
    }
   ],
   "source": [
    "train_datagen = ImageDataGenerator(rescale = 1./255,\n",
    "                                   shear_range = 0.2,\n",
    "                                   zoom_range = 0.2,\n",
    "                                   horizontal_flip = True)\n",
    "training_set = train_datagen.flow_from_directory('xray_dataset_covid19/train',\n",
    "                                                 target_size = (64, 64),\n",
    "                                                 batch_size = 32,\n",
    "                                                 class_mode = 'binary')"
   ]
  },
  {
   "cell_type": "markdown",
   "id": "ff11824a",
   "metadata": {},
   "source": [
    "Preprocessing the Test set"
   ]
  },
  {
   "cell_type": "code",
   "execution_count": 3,
   "id": "1c967d1b",
   "metadata": {},
   "outputs": [
    {
     "name": "stdout",
     "output_type": "stream",
     "text": [
      "Found 40 images belonging to 2 classes.\n"
     ]
    }
   ],
   "source": [
    "\n",
    "test_datagen = ImageDataGenerator(rescale = 1./255)\n",
    "test_set = test_datagen.flow_from_directory('xray_dataset_covid19/test',\n",
    "                                            target_size = (64, 64),\n",
    "                                            batch_size = 32,\n",
    "                                            class_mode = 'binary')"
   ]
  },
  {
   "cell_type": "markdown",
   "id": "74d95546",
   "metadata": {},
   "source": [
    "Part 2 - Building the CNN"
   ]
  },
  {
   "cell_type": "markdown",
   "id": "80b37b87",
   "metadata": {},
   "source": [
    "Initialising the CNN"
   ]
  },
  {
   "cell_type": "code",
   "execution_count": 4,
   "id": "f1187783",
   "metadata": {},
   "outputs": [],
   "source": [
    "cnn = tf.keras.models.Sequential()"
   ]
  },
  {
   "cell_type": "markdown",
   "id": "85acebc0",
   "metadata": {},
   "source": [
    "Step 1 - Convolution"
   ]
  },
  {
   "cell_type": "code",
   "execution_count": 5,
   "id": "7875266f",
   "metadata": {},
   "outputs": [],
   "source": [
    "cnn.add(tf.keras.layers.Conv2D(filters=32, kernel_size=3, activation='relu', input_shape=[64, 64, 3]))"
   ]
  },
  {
   "cell_type": "markdown",
   "id": "4c614b5b",
   "metadata": {},
   "source": [
    "Step 2 - Pooling"
   ]
  },
  {
   "cell_type": "code",
   "execution_count": 6,
   "id": "11146458",
   "metadata": {},
   "outputs": [],
   "source": [
    "\n",
    "cnn.add(tf.keras.layers.MaxPool2D(pool_size=2, strides=2))"
   ]
  },
  {
   "cell_type": "markdown",
   "id": "34ee5fbc",
   "metadata": {},
   "source": [
    "Adding a second convolutional layer"
   ]
  },
  {
   "cell_type": "code",
   "execution_count": 7,
   "id": "c46ca81c",
   "metadata": {},
   "outputs": [],
   "source": [
    "cnn.add(tf.keras.layers.Conv2D(filters=32, kernel_size=3, activation='relu'))\n",
    "cnn.add(tf.keras.layers.MaxPool2D(pool_size=2, strides=2))"
   ]
  },
  {
   "cell_type": "markdown",
   "id": "1435a80f",
   "metadata": {},
   "source": [
    "Step 3 - Flattening"
   ]
  },
  {
   "cell_type": "code",
   "execution_count": 8,
   "id": "1bc5485a",
   "metadata": {},
   "outputs": [],
   "source": [
    "cnn.add(tf.keras.layers.Flatten())"
   ]
  },
  {
   "cell_type": "markdown",
   "id": "c32b8d97",
   "metadata": {},
   "source": [
    "Step 4 - Full Connection"
   ]
  },
  {
   "cell_type": "code",
   "execution_count": 9,
   "id": "bb57b8f6",
   "metadata": {},
   "outputs": [],
   "source": [
    "cnn.add(tf.keras.layers.Dense(units=128, activation='relu'))"
   ]
  },
  {
   "cell_type": "markdown",
   "id": "c5933a80",
   "metadata": {},
   "source": [
    "Step 5 - Output Layer"
   ]
  },
  {
   "cell_type": "code",
   "execution_count": 10,
   "id": "82a87e2f",
   "metadata": {},
   "outputs": [],
   "source": [
    "cnn.add(tf.keras.layers.Dense(units=1, activation='sigmoid'))"
   ]
  },
  {
   "cell_type": "markdown",
   "id": "6627c815",
   "metadata": {},
   "source": [
    "Part 3 - Training the CNN\n",
    "\n",
    "Compiling the CNN"
   ]
  },
  {
   "cell_type": "code",
   "execution_count": 11,
   "id": "0c49a04a",
   "metadata": {},
   "outputs": [],
   "source": [
    "\n",
    "cnn.compile(optimizer = 'adam', loss = 'binary_crossentropy', metrics = ['accuracy'])"
   ]
  },
  {
   "cell_type": "markdown",
   "id": "5ffaa710",
   "metadata": {},
   "source": [
    "Early Stopping"
   ]
  },
  {
   "cell_type": "code",
   "execution_count": 12,
   "id": "cd70823a",
   "metadata": {},
   "outputs": [],
   "source": [
    "earlystopping = EarlyStopping(patience=4, monitor='accuracy')"
   ]
  },
  {
   "cell_type": "markdown",
   "id": "0c0d42f6",
   "metadata": {},
   "source": [
    "Training the CNN on the Training set and evaluating it on the Test set"
   ]
  },
  {
   "cell_type": "code",
   "execution_count": 13,
   "id": "44f434f6",
   "metadata": {},
   "outputs": [
    {
     "name": "stdout",
     "output_type": "stream",
     "text": [
      "Epoch 1/100\n",
      "3/3 [==============================] - 4s 1s/step - loss: 0.3703 - accuracy: 0.5676 - val_loss: 4.5677 - val_accuracy: 0.5000\n",
      "Epoch 2/100\n",
      "3/3 [==============================] - 2s 733ms/step - loss: 3.5109e-05 - accuracy: 1.0000 - val_loss: 8.3168 - val_accuracy: 0.5000\n",
      "Epoch 3/100\n",
      "3/3 [==============================] - 2s 580ms/step - loss: 6.7276e-07 - accuracy: 1.0000 - val_loss: 11.3944 - val_accuracy: 0.5000\n",
      "Epoch 4/100\n",
      "3/3 [==============================] - 2s 571ms/step - loss: 2.5772e-09 - accuracy: 1.0000 - val_loss: 13.8849 - val_accuracy: 0.5000\n",
      "Epoch 5/100\n",
      "3/3 [==============================] - 2s 565ms/step - loss: 2.8937e-10 - accuracy: 1.0000 - val_loss: 15.8798 - val_accuracy: 0.5000\n",
      "Epoch 6/100\n",
      "3/3 [==============================] - 2s 563ms/step - loss: 3.2584e-11 - accuracy: 1.0000 - val_loss: 17.4626 - val_accuracy: 0.5000\n",
      "Epoch 7/100\n",
      "3/3 [==============================] - 2s 579ms/step - loss: 3.5944e-12 - accuracy: 1.0000 - val_loss: 18.7070 - val_accuracy: 0.5000\n",
      "Epoch 8/100\n",
      "3/3 [==============================] - 2s 569ms/step - loss: 2.0061e-12 - accuracy: 1.0000 - val_loss: 19.6795 - val_accuracy: 0.5000\n",
      "Epoch 9/100\n",
      "3/3 [==============================] - 2s 555ms/step - loss: 2.3358e-13 - accuracy: 1.0000 - val_loss: 20.4349 - val_accuracy: 0.5000\n",
      "Epoch 10/100\n",
      "3/3 [==============================] - 2s 569ms/step - loss: 2.1233e-13 - accuracy: 1.0000 - val_loss: 21.0179 - val_accuracy: 0.5000\n",
      "Epoch 11/100\n",
      "3/3 [==============================] - 2s 732ms/step - loss: 4.2908e-13 - accuracy: 1.0000 - val_loss: 21.4656 - val_accuracy: 0.5000\n",
      "Epoch 12/100\n",
      "3/3 [==============================] - 2s 562ms/step - loss: 8.1876e-14 - accuracy: 1.0000 - val_loss: 21.8077 - val_accuracy: 0.5000\n",
      "Epoch 13/100\n",
      "3/3 [==============================] - 2s 571ms/step - loss: 9.8168e-14 - accuracy: 1.0000 - val_loss: 22.0681 - val_accuracy: 0.5000\n",
      "Epoch 14/100\n",
      "3/3 [==============================] - 2s 557ms/step - loss: 1.2154e-14 - accuracy: 1.0000 - val_loss: 22.2657 - val_accuracy: 0.5000\n",
      "Epoch 15/100\n",
      "3/3 [==============================] - 2s 737ms/step - loss: 6.8564e-15 - accuracy: 1.0000 - val_loss: 22.4151 - val_accuracy: 0.5000\n",
      "Epoch 16/100\n",
      "3/3 [==============================] - 2s 734ms/step - loss: 3.3810e-14 - accuracy: 1.0000 - val_loss: 22.5279 - val_accuracy: 0.5000\n",
      "Epoch 17/100\n",
      "3/3 [==============================] - 2s 596ms/step - loss: 9.2785e-15 - accuracy: 1.0000 - val_loss: 22.6129 - val_accuracy: 0.5000\n",
      "Epoch 18/100\n",
      "3/3 [==============================] - 2s 573ms/step - loss: 3.0679e-14 - accuracy: 1.0000 - val_loss: 22.6767 - val_accuracy: 0.5000\n",
      "Epoch 19/100\n",
      "3/3 [==============================] - 2s 592ms/step - loss: 1.5532e-14 - accuracy: 1.0000 - val_loss: 22.7246 - val_accuracy: 0.5000\n",
      "Epoch 20/100\n",
      "3/3 [==============================] - 2s 567ms/step - loss: 6.9140e-15 - accuracy: 1.0000 - val_loss: 22.7604 - val_accuracy: 0.5000\n",
      "Epoch 21/100\n",
      "3/3 [==============================] - 2s 729ms/step - loss: 1.2357e-14 - accuracy: 1.0000 - val_loss: 22.7873 - val_accuracy: 0.5000\n",
      "Epoch 22/100\n",
      "3/3 [==============================] - 2s 567ms/step - loss: 1.1270e-14 - accuracy: 1.0000 - val_loss: 22.8073 - val_accuracy: 0.5000\n",
      "Epoch 23/100\n",
      "3/3 [==============================] - 2s 574ms/step - loss: 6.9244e-15 - accuracy: 1.0000 - val_loss: 22.8223 - val_accuracy: 0.5000\n",
      "Epoch 24/100\n",
      "3/3 [==============================] - 2s 602ms/step - loss: 3.2087e-15 - accuracy: 1.0000 - val_loss: 22.8334 - val_accuracy: 0.5000\n",
      "Epoch 25/100\n",
      "3/3 [==============================] - 2s 571ms/step - loss: 1.6087e-14 - accuracy: 1.0000 - val_loss: 22.8417 - val_accuracy: 0.5000\n",
      "Epoch 26/100\n",
      "3/3 [==============================] - 2s 729ms/step - loss: 1.1610e-14 - accuracy: 1.0000 - val_loss: 22.8479 - val_accuracy: 0.5000\n",
      "Epoch 27/100\n",
      "3/3 [==============================] - 2s 561ms/step - loss: 9.8072e-15 - accuracy: 1.0000 - val_loss: 22.8525 - val_accuracy: 0.5000\n",
      "Epoch 28/100\n",
      "3/3 [==============================] - 2s 595ms/step - loss: 9.9504e-15 - accuracy: 1.0000 - val_loss: 22.8559 - val_accuracy: 0.5000\n",
      "Epoch 29/100\n",
      "3/3 [==============================] - 2s 728ms/step - loss: 1.8682e-14 - accuracy: 1.0000 - val_loss: 22.8585 - val_accuracy: 0.5000\n",
      "Epoch 30/100\n",
      "3/3 [==============================] - 2s 720ms/step - loss: 2.2169e-14 - accuracy: 1.0000 - val_loss: 22.8603 - val_accuracy: 0.5000\n",
      "Epoch 31/100\n",
      "3/3 [==============================] - 2s 556ms/step - loss: 2.8824e-14 - accuracy: 1.0000 - val_loss: 22.8617 - val_accuracy: 0.5000\n",
      "Epoch 32/100\n",
      "3/3 [==============================] - 2s 728ms/step - loss: 4.6301e-15 - accuracy: 1.0000 - val_loss: 22.8628 - val_accuracy: 0.5000\n",
      "Epoch 33/100\n",
      "3/3 [==============================] - 2s 570ms/step - loss: 2.7512e-14 - accuracy: 1.0000 - val_loss: 22.8636 - val_accuracy: 0.5000\n",
      "Epoch 34/100\n",
      "3/3 [==============================] - 2s 722ms/step - loss: 5.2830e-14 - accuracy: 1.0000 - val_loss: 22.8641 - val_accuracy: 0.5000\n",
      "Epoch 35/100\n",
      "3/3 [==============================] - 2s 717ms/step - loss: 4.1452e-14 - accuracy: 1.0000 - val_loss: 22.8645 - val_accuracy: 0.5000\n",
      "Epoch 36/100\n",
      "3/3 [==============================] - 2s 565ms/step - loss: 4.0657e-15 - accuracy: 1.0000 - val_loss: 22.8649 - val_accuracy: 0.5000\n",
      "Epoch 37/100\n",
      "3/3 [==============================] - 2s 584ms/step - loss: 8.4207e-15 - accuracy: 1.0000 - val_loss: 22.8651 - val_accuracy: 0.5000\n",
      "Epoch 38/100\n",
      "3/3 [==============================] - 2s 722ms/step - loss: 2.2368e-14 - accuracy: 1.0000 - val_loss: 22.8653 - val_accuracy: 0.5000\n",
      "Epoch 39/100\n",
      "3/3 [==============================] - 2s 592ms/step - loss: 1.9300e-14 - accuracy: 1.0000 - val_loss: 22.8654 - val_accuracy: 0.5000\n",
      "Epoch 40/100\n",
      "3/3 [==============================] - 2s 743ms/step - loss: 1.2245e-14 - accuracy: 1.0000 - val_loss: 22.8655 - val_accuracy: 0.5000\n",
      "Epoch 41/100\n",
      "3/3 [==============================] - 2s 759ms/step - loss: 5.2975e-15 - accuracy: 1.0000 - val_loss: 22.8655 - val_accuracy: 0.5000\n",
      "Epoch 42/100\n",
      "3/3 [==============================] - 2s 721ms/step - loss: 3.2300e-14 - accuracy: 1.0000 - val_loss: 22.8656 - val_accuracy: 0.5000\n",
      "Epoch 43/100\n",
      "3/3 [==============================] - 2s 726ms/step - loss: 4.7311e-15 - accuracy: 1.0000 - val_loss: 22.8656 - val_accuracy: 0.5000\n",
      "Epoch 44/100\n",
      "3/3 [==============================] - 2s 564ms/step - loss: 5.1248e-15 - accuracy: 1.0000 - val_loss: 22.8656 - val_accuracy: 0.5000\n",
      "Epoch 45/100\n",
      "3/3 [==============================] - 2s 559ms/step - loss: 4.7666e-15 - accuracy: 1.0000 - val_loss: 22.8657 - val_accuracy: 0.5000\n",
      "Epoch 46/100\n",
      "3/3 [==============================] - 2s 567ms/step - loss: 9.8934e-15 - accuracy: 1.0000 - val_loss: 22.8657 - val_accuracy: 0.5000\n",
      "Epoch 47/100\n",
      "3/3 [==============================] - 2s 719ms/step - loss: 1.0100e-14 - accuracy: 1.0000 - val_loss: 22.8657 - val_accuracy: 0.5000\n",
      "Epoch 48/100\n",
      "3/3 [==============================] - 2s 575ms/step - loss: 6.9500e-14 - accuracy: 1.0000 - val_loss: 22.8657 - val_accuracy: 0.5000\n",
      "Epoch 49/100\n",
      "3/3 [==============================] - 2s 718ms/step - loss: 2.4926e-14 - accuracy: 1.0000 - val_loss: 22.8657 - val_accuracy: 0.5000\n",
      "Epoch 50/100\n",
      "3/3 [==============================] - 2s 574ms/step - loss: 8.8103e-15 - accuracy: 1.0000 - val_loss: 22.8657 - val_accuracy: 0.5000\n",
      "Epoch 51/100\n",
      "3/3 [==============================] - 2s 551ms/step - loss: 1.4355e-14 - accuracy: 1.0000 - val_loss: 22.8657 - val_accuracy: 0.5000\n",
      "Epoch 52/100\n",
      "3/3 [==============================] - 2s 571ms/step - loss: 4.3825e-15 - accuracy: 1.0000 - val_loss: 22.8657 - val_accuracy: 0.5000\n",
      "Epoch 53/100\n",
      "3/3 [==============================] - 2s 729ms/step - loss: 2.7661e-14 - accuracy: 1.0000 - val_loss: 22.8657 - val_accuracy: 0.5000\n",
      "Epoch 54/100\n",
      "3/3 [==============================] - 2s 719ms/step - loss: 2.0347e-14 - accuracy: 1.0000 - val_loss: 22.8657 - val_accuracy: 0.5000\n",
      "Epoch 55/100\n",
      "3/3 [==============================] - 2s 565ms/step - loss: 8.4967e-15 - accuracy: 1.0000 - val_loss: 22.8657 - val_accuracy: 0.5000\n",
      "Epoch 56/100\n",
      "3/3 [==============================] - 2s 577ms/step - loss: 2.6726e-15 - accuracy: 1.0000 - val_loss: 22.8657 - val_accuracy: 0.5000\n"
     ]
    },
    {
     "name": "stdout",
     "output_type": "stream",
     "text": [
      "Epoch 57/100\n",
      "3/3 [==============================] - 2s 733ms/step - loss: 4.9946e-15 - accuracy: 1.0000 - val_loss: 22.8657 - val_accuracy: 0.5000\n",
      "Epoch 58/100\n",
      "3/3 [==============================] - 2s 556ms/step - loss: 9.1874e-15 - accuracy: 1.0000 - val_loss: 22.8657 - val_accuracy: 0.5000\n",
      "Epoch 59/100\n",
      "3/3 [==============================] - 2s 548ms/step - loss: 5.9436e-15 - accuracy: 1.0000 - val_loss: 22.8657 - val_accuracy: 0.5000\n",
      "Epoch 60/100\n",
      "3/3 [==============================] - 2s 569ms/step - loss: 4.3399e-15 - accuracy: 1.0000 - val_loss: 22.8657 - val_accuracy: 0.5000\n",
      "Epoch 61/100\n",
      "3/3 [==============================] - 2s 579ms/step - loss: 2.8738e-14 - accuracy: 1.0000 - val_loss: 22.8657 - val_accuracy: 0.5000\n",
      "Epoch 62/100\n",
      "3/3 [==============================] - 2s 577ms/step - loss: 5.9359e-15 - accuracy: 1.0000 - val_loss: 22.8657 - val_accuracy: 0.5000\n",
      "Epoch 63/100\n",
      "3/3 [==============================] - 2s 585ms/step - loss: 8.9243e-15 - accuracy: 1.0000 - val_loss: 22.8657 - val_accuracy: 0.5000\n",
      "Epoch 64/100\n",
      "3/3 [==============================] - 2s 743ms/step - loss: 4.5187e-14 - accuracy: 1.0000 - val_loss: 22.8657 - val_accuracy: 0.5000\n",
      "Epoch 65/100\n",
      "3/3 [==============================] - 2s 720ms/step - loss: 1.0170e-14 - accuracy: 1.0000 - val_loss: 22.8657 - val_accuracy: 0.5000\n",
      "Epoch 66/100\n",
      "3/3 [==============================] - 2s 561ms/step - loss: 5.6814e-15 - accuracy: 1.0000 - val_loss: 22.8657 - val_accuracy: 0.5000\n",
      "Epoch 67/100\n",
      "3/3 [==============================] - 2s 569ms/step - loss: 6.7768e-15 - accuracy: 1.0000 - val_loss: 22.8657 - val_accuracy: 0.5000\n",
      "Epoch 68/100\n",
      "3/3 [==============================] - 2s 574ms/step - loss: 7.4058e-15 - accuracy: 1.0000 - val_loss: 22.8657 - val_accuracy: 0.5000\n",
      "Epoch 69/100\n",
      "3/3 [==============================] - 2s 737ms/step - loss: 4.8421e-15 - accuracy: 1.0000 - val_loss: 22.8657 - val_accuracy: 0.5000\n",
      "Epoch 70/100\n",
      "3/3 [==============================] - 2s 577ms/step - loss: 4.7622e-15 - accuracy: 1.0000 - val_loss: 22.8657 - val_accuracy: 0.5000\n",
      "Epoch 71/100\n",
      "3/3 [==============================] - 2s 585ms/step - loss: 3.5373e-15 - accuracy: 1.0000 - val_loss: 22.8657 - val_accuracy: 0.5000\n",
      "Epoch 72/100\n",
      "3/3 [==============================] - 2s 572ms/step - loss: 1.1477e-14 - accuracy: 1.0000 - val_loss: 22.8657 - val_accuracy: 0.5000\n",
      "Epoch 73/100\n",
      "3/3 [==============================] - 2s 561ms/step - loss: 1.4020e-14 - accuracy: 1.0000 - val_loss: 22.8657 - val_accuracy: 0.5000\n",
      "Epoch 74/100\n",
      "3/3 [==============================] - 2s 725ms/step - loss: 1.5580e-14 - accuracy: 1.0000 - val_loss: 22.8657 - val_accuracy: 0.5000\n",
      "Epoch 75/100\n",
      "3/3 [==============================] - 2s 577ms/step - loss: 1.2703e-14 - accuracy: 1.0000 - val_loss: 22.8657 - val_accuracy: 0.5000\n",
      "Epoch 76/100\n",
      "3/3 [==============================] - 2s 568ms/step - loss: 1.1566e-14 - accuracy: 1.0000 - val_loss: 22.8657 - val_accuracy: 0.5000\n",
      "Epoch 77/100\n",
      "3/3 [==============================] - 2s 567ms/step - loss: 2.7845e-14 - accuracy: 1.0000 - val_loss: 22.8657 - val_accuracy: 0.5000\n",
      "Epoch 78/100\n",
      "3/3 [==============================] - 2s 575ms/step - loss: 6.6791e-14 - accuracy: 1.0000 - val_loss: 22.8657 - val_accuracy: 0.5000\n",
      "Epoch 79/100\n",
      "3/3 [==============================] - 2s 563ms/step - loss: 4.0504e-15 - accuracy: 1.0000 - val_loss: 22.8657 - val_accuracy: 0.5000\n",
      "Epoch 80/100\n",
      "3/3 [==============================] - 2s 565ms/step - loss: 4.3312e-15 - accuracy: 1.0000 - val_loss: 22.8657 - val_accuracy: 0.5000\n",
      "Epoch 81/100\n",
      "3/3 [==============================] - 2s 731ms/step - loss: 1.3708e-14 - accuracy: 1.0000 - val_loss: 22.8657 - val_accuracy: 0.5000\n",
      "Epoch 82/100\n",
      "3/3 [==============================] - 2s 573ms/step - loss: 1.3619e-14 - accuracy: 1.0000 - val_loss: 22.8657 - val_accuracy: 0.5000\n",
      "Epoch 83/100\n",
      "3/3 [==============================] - 2s 572ms/step - loss: 3.7784e-14 - accuracy: 1.0000 - val_loss: 22.8657 - val_accuracy: 0.5000\n",
      "Epoch 84/100\n",
      "3/3 [==============================] - 2s 726ms/step - loss: 6.9105e-15 - accuracy: 1.0000 - val_loss: 22.8657 - val_accuracy: 0.5000\n",
      "Epoch 85/100\n",
      "3/3 [==============================] - 2s 576ms/step - loss: 1.1077e-14 - accuracy: 1.0000 - val_loss: 22.8657 - val_accuracy: 0.5000\n",
      "Epoch 86/100\n",
      "3/3 [==============================] - 2s 569ms/step - loss: 3.5745e-14 - accuracy: 1.0000 - val_loss: 22.8657 - val_accuracy: 0.5000\n",
      "Epoch 87/100\n",
      "3/3 [==============================] - 2s 701ms/step - loss: 5.2714e-15 - accuracy: 1.0000 - val_loss: 22.8657 - val_accuracy: 0.5000\n",
      "Epoch 88/100\n",
      "3/3 [==============================] - 2s 560ms/step - loss: 6.7027e-15 - accuracy: 1.0000 - val_loss: 22.8657 - val_accuracy: 0.5000\n",
      "Epoch 89/100\n",
      "3/3 [==============================] - 2s 757ms/step - loss: 1.4934e-14 - accuracy: 1.0000 - val_loss: 22.8657 - val_accuracy: 0.5000\n",
      "Epoch 90/100\n",
      "3/3 [==============================] - 2s 732ms/step - loss: 3.3286e-15 - accuracy: 1.0000 - val_loss: 22.8657 - val_accuracy: 0.5000\n",
      "Epoch 91/100\n",
      "3/3 [==============================] - 2s 574ms/step - loss: 1.9905e-14 - accuracy: 1.0000 - val_loss: 22.8657 - val_accuracy: 0.5000\n",
      "Epoch 92/100\n",
      "3/3 [==============================] - 2s 585ms/step - loss: 5.9838e-15 - accuracy: 1.0000 - val_loss: 22.8657 - val_accuracy: 0.5000\n",
      "Epoch 93/100\n",
      "3/3 [==============================] - 2s 579ms/step - loss: 4.5889e-15 - accuracy: 1.0000 - val_loss: 22.8657 - val_accuracy: 0.5000\n",
      "Epoch 94/100\n",
      "3/3 [==============================] - 2s 712ms/step - loss: 6.5168e-15 - accuracy: 1.0000 - val_loss: 22.8657 - val_accuracy: 0.5000\n",
      "Epoch 95/100\n",
      "3/3 [==============================] - 2s 568ms/step - loss: 4.9036e-15 - accuracy: 1.0000 - val_loss: 22.8657 - val_accuracy: 0.5000\n",
      "Epoch 96/100\n",
      "3/3 [==============================] - 2s 572ms/step - loss: 4.0611e-15 - accuracy: 1.0000 - val_loss: 22.8657 - val_accuracy: 0.5000\n",
      "Epoch 97/100\n",
      "3/3 [==============================] - 2s 734ms/step - loss: 5.7608e-15 - accuracy: 1.0000 - val_loss: 22.8657 - val_accuracy: 0.5000\n",
      "Epoch 98/100\n",
      "3/3 [==============================] - 2s 564ms/step - loss: 6.4673e-15 - accuracy: 1.0000 - val_loss: 22.8657 - val_accuracy: 0.5000\n",
      "Epoch 99/100\n",
      "3/3 [==============================] - 2s 729ms/step - loss: 4.7922e-15 - accuracy: 1.0000 - val_loss: 22.8657 - val_accuracy: 0.5000\n",
      "Epoch 100/100\n",
      "3/3 [==============================] - 2s 724ms/step - loss: 5.1418e-15 - accuracy: 1.0000 - val_loss: 22.8657 - val_accuracy: 0.5000\n"
     ]
    },
    {
     "data": {
      "text/plain": [
       "<keras.src.callbacks.History at 0x2114b84f250>"
      ]
     },
     "execution_count": 13,
     "metadata": {},
     "output_type": "execute_result"
    }
   ],
   "source": [
    "\n",
    "cnn.fit(x = training_set, validation_data = test_set, epochs = 100)#, callbacks=[earlystopping]"
   ]
  },
  {
   "cell_type": "code",
   "execution_count": 14,
   "id": "581bb432",
   "metadata": {},
   "outputs": [],
   "source": [
    "cnn.save_weights('weights/weights')"
   ]
  },
  {
   "cell_type": "code",
   "execution_count": 15,
   "id": "82e04ca0",
   "metadata": {},
   "outputs": [
    {
     "name": "stderr",
     "output_type": "stream",
     "text": [
      "c:\\python37\\lib\\site-packages\\keras\\src\\engine\\training.py:3000: UserWarning: You are saving your model as an HDF5 file via `model.save()`. This file format is considered legacy. We recommend using instead the native Keras format, e.g. `model.save('my_model.keras')`.\n",
      "  saving_api.save_model(\n"
     ]
    }
   ],
   "source": [
    "cnn.save('model.h5')"
   ]
  },
  {
   "cell_type": "markdown",
   "id": "bb6483be",
   "metadata": {},
   "source": [
    "Applying model on self download data"
   ]
  },
  {
   "cell_type": "code",
   "execution_count": 16,
   "id": "1c548f4f",
   "metadata": {},
   "outputs": [
    {
     "name": "stdout",
     "output_type": "stream",
     "text": [
      "1/1 [==============================] - 0s 79ms/step\n",
      "{'NORMAL': 0}\n"
     ]
    }
   ],
   "source": [
    "\n",
    "import numpy as np\n",
    "from keras.preprocessing import image\n",
    "test_image = tf.keras.utils.load_img(r\"C:\\Users\\aryan\\Desktop\\Deep Learning\\Predict\\positive.jpg\", target_size = (64, 64))\n",
    "test_image = tf.keras.utils.img_to_array(test_image)\n",
    "test_image = np.expand_dims(test_image, axis = 0)\n",
    "result =cnn.predict(test_image)\n",
    "print(training_set.class_indices)\n",
    "if result[0][0] == 1:\n",
    "  prediction = 'At Risk of Covid'\n",
    "else:\n",
    "  prediction = 'No Risk'"
   ]
  },
  {
   "cell_type": "code",
   "execution_count": 17,
   "id": "ae59f174",
   "metadata": {},
   "outputs": [
    {
     "name": "stdout",
     "output_type": "stream",
     "text": [
      "No Risk\n"
     ]
    }
   ],
   "source": [
    "print(prediction)"
   ]
  },
  {
   "cell_type": "code",
   "execution_count": 18,
   "id": "e0335a1c",
   "metadata": {},
   "outputs": [
    {
     "ename": "SyntaxError",
     "evalue": "(unicode error) 'unicodeescape' codec can't decode bytes in position 2-3: truncated \\UXXXXXXXX escape (Temp/ipykernel_6028/3354884448.py, line 1)",
     "output_type": "error",
     "traceback": [
      "\u001b[1;36m  File \u001b[1;32m\"C:\\Users\\aryan\\AppData\\Local\\Temp/ipykernel_6028/3354884448.py\"\u001b[1;36m, line \u001b[1;32m1\u001b[0m\n\u001b[1;33m    \"C:\\Users\\aryan\\Desktop\\Deep Learning\\Predict\\positive.jpg\"\u001b[0m\n\u001b[1;37m                                                               ^\u001b[0m\n\u001b[1;31mSyntaxError\u001b[0m\u001b[1;31m:\u001b[0m (unicode error) 'unicodeescape' codec can't decode bytes in position 2-3: truncated \\UXXXXXXXX escape\n"
     ]
    }
   ],
   "source": [
    "\"C:\\Users\\aryan\\Desktop\\Deep Learning\\Predict\\positive.jpg\""
   ]
  },
  {
   "cell_type": "code",
   "execution_count": null,
   "id": "9774e809",
   "metadata": {},
   "outputs": [],
   "source": [
    "from CovidModel import load_custom_model, preprocess_image, predict_covid_risk\n",
    "\n",
    "# Load the model\n",
    "model = load_custom_model()\n",
    "\n",
    "# Specify the path to the image file you want to predict\n",
    "image_path = \"templates/uploads/image.jpg\"  # Update with the correct path\n",
    "\n",
    "# Preprocess the image and make predictions\n",
    "prediction = predict_covid_risk(image_path, model)\n",
    "\n",
    "# Display the prediction\n",
    "print(\"Prediction:\", prediction)\n"
   ]
  },
  {
   "cell_type": "code",
   "execution_count": null,
   "id": "fbd60200",
   "metadata": {},
   "outputs": [],
   "source": [
    "import os\n",
    "import requests\n",
    "\n",
    "# Specify the Flask server endpoint\n",
    "endpoint = \"http://127.0.0.1:5000/upload\"\n",
    "image_path = \"templates/uploads/image.jpg\"\n",
    "testing_image = tf.keras.utils.load_img(image_path)\n",
    "# Specify the path to the image file you want to upload\n",
    "\n",
    "\n",
    "# Check if the file exists before attempting to open it\n",
    "if os.path.isfile(image_path):\n",
    "    # Create a dictionary containing the file data\n",
    "    files = {\"imageUpload\": open(image_path, \"rb\")}\n",
    "\n",
    "    # Make a POST request to the Flask server\n",
    "    response = requests.post(endpoint, files=files)\n",
    "\n",
    "    # Check the response\n",
    "    if response.status_code == 200:\n",
    "        result = response.json()\n",
    "        print(result[\"message\"])\n",
    "        print(\"Prediction:\", result[\"prediction\"])\n",
    "    else:\n",
    "        print(\"Error:\", response.text)\n",
    "else:\n",
    "    print(\"Image file not found.\")\n"
   ]
  },
  {
   "cell_type": "code",
   "execution_count": null,
   "id": "449d1808",
   "metadata": {},
   "outputs": [],
   "source": []
  },
  {
   "cell_type": "code",
   "execution_count": null,
   "id": "cfbf05c1",
   "metadata": {},
   "outputs": [],
   "source": []
  }
 ],
 "metadata": {
  "kernelspec": {
   "display_name": "Python 3 (ipykernel)",
   "language": "python",
   "name": "python3"
  },
  "language_info": {
   "codemirror_mode": {
    "name": "ipython",
    "version": 3
   },
   "file_extension": ".py",
   "mimetype": "text/x-python",
   "name": "python",
   "nbconvert_exporter": "python",
   "pygments_lexer": "ipython3",
   "version": "3.9.5"
  }
 },
 "nbformat": 4,
 "nbformat_minor": 5
}
